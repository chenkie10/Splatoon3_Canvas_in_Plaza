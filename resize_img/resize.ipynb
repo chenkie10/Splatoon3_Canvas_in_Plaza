{
 "cells": [
  {
   "cell_type": "code",
   "execution_count": 4,
   "metadata": {},
   "outputs": [],
   "source": [
    "import cv2 as cv\n"
   ]
  },
  {
   "cell_type": "code",
   "execution_count": 5,
   "metadata": {},
   "outputs": [
    {
     "name": "stdout",
     "output_type": "stream",
     "text": [
      "[[[241 241 241]\n",
      "  [248 248 248]\n",
      "  [247 247 247]\n",
      "  ...\n",
      "  [235 235 235]\n",
      "  [236 236 236]\n",
      "  [239 239 239]]\n",
      "\n",
      " [[242 242 242]\n",
      "  [248 248 248]\n",
      "  [246 246 246]\n",
      "  ...\n",
      "  [235 235 235]\n",
      "  [237 237 237]\n",
      "  [240 240 240]]\n",
      "\n",
      " [[244 244 244]\n",
      "  [249 249 249]\n",
      "  [245 245 245]\n",
      "  ...\n",
      "  [236 236 236]\n",
      "  [237 237 237]\n",
      "  [241 241 241]]\n",
      "\n",
      " ...\n",
      "\n",
      " [[245 245 245]\n",
      "  [238 238 238]\n",
      "  [231 231 231]\n",
      "  ...\n",
      "  [152 160 160]\n",
      "  [154 162 162]\n",
      "  [155 163 163]]\n",
      "\n",
      " [[240 240 240]\n",
      "  [235 235 235]\n",
      "  [234 234 234]\n",
      "  ...\n",
      "  [149 157 157]\n",
      "  [155 163 163]\n",
      "  [156 164 164]]\n",
      "\n",
      " [[240 240 240]\n",
      "  [235 235 235]\n",
      "  [234 234 234]\n",
      "  ...\n",
      "  [154 162 162]\n",
      "  [159 167 167]\n",
      "  [160 168 168]]]\n"
     ]
    }
   ],
   "source": [
    "img=cv.imread('20241210162622.jpg')\n",
    "print(img)"
   ]
  },
  {
   "cell_type": "code",
   "execution_count": 6,
   "metadata": {},
   "outputs": [
    {
     "data": {
      "text/plain": [
       "True"
      ]
     },
     "execution_count": 6,
     "metadata": {},
     "output_type": "execute_result"
    }
   ],
   "source": [
    "img_resize=cv.resize(img,(320,120))\n",
    "cv.imwrite('output.png',img_resize)\n"
   ]
  }
 ],
 "metadata": {
  "kernelspec": {
   "display_name": "base",
   "language": "python",
   "name": "python3"
  },
  "language_info": {
   "codemirror_mode": {
    "name": "ipython",
    "version": 3
   },
   "file_extension": ".py",
   "mimetype": "text/x-python",
   "name": "python",
   "nbconvert_exporter": "python",
   "pygments_lexer": "ipython3",
   "version": "3.8.20"
  }
 },
 "nbformat": 4,
 "nbformat_minor": 2
}
